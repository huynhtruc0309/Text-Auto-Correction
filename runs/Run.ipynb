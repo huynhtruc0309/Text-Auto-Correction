{
 "cells": [
  {
   "cell_type": "code",
   "execution_count": 1,
   "id": "7aa33c4c-6802-407d-a9d3-68fc280fa711",
   "metadata": {},
   "outputs": [
    {
     "name": "stdout",
     "output_type": "stream",
     "text": [
      "current dir: /home/huynhtruc0309/Desktop/auto_correction/runs\n",
      "changed dir: /home/huynhtruc0309/Desktop/auto_correction\n"
     ]
    }
   ],
   "source": [
    "import os\n",
    "print(f'current dir: {os.getcwd()}')\n",
    "os.chdir('/home/huynhtruc0309/Desktop/auto_correction/')\n",
    "print(f'changed dir: {os.getcwd()}')"
   ]
  },
  {
   "cell_type": "code",
   "execution_count": 2,
   "id": "478b05c2-1d50-4712-b3bb-8a44fbbc656e",
   "metadata": {},
   "outputs": [],
   "source": [
    "import utils\n",
    "import json\n",
    "from pathlib import Path\n",
    "import pandas as pd\n",
    "import math"
   ]
  },
  {
   "cell_type": "code",
   "execution_count": 3,
   "id": "a078afe1-add4-455d-9f09-1c7cd52d5a40",
   "metadata": {},
   "outputs": [],
   "source": [
    "config = utils.load_yaml('modules/auto_correct/config.yaml')\n",
    "correcter = utils.create_instance(config['auto_correct'])"
   ]
  },
  {
   "cell_type": "code",
   "execution_count": 4,
   "id": "92b6d293-600d-4639-96fe-97ca8befe3c9",
   "metadata": {},
   "outputs": [
    {
     "name": "stdout",
     "output_type": "stream",
     "text": [
      "VIỆN PASTEUR NHA TRANG\n"
     ]
    }
   ],
   "source": [
    "# f = open('/home/huynhtruc0309/Desktop/output_phieukiemnghiem/output/000019/1.json', 'r')\n",
    "# data = json.load(f)\n",
    "# print(data['name_analyst_center'])\n",
    "print(correcter('BỘ Y TẾ |VIỆN PASTEUR NHA TRANG |TRUNG TÂM KIỂM NGHIỆM ATVSTP KHU VỰC MIÊN TRUNG'))"
   ]
  },
  {
   "cell_type": "code",
   "execution_count": 5,
   "id": "ff36bec9-f38d-490f-9921-6a9536803b67",
   "metadata": {},
   "outputs": [],
   "source": [
    "# Load label\n",
    "file_names, labels = [], []\n",
    "data =  pd.read_excel('/home/huynhtruc0309/Downloads/Danh sách các Trung tâm Kiểm nghiệm_13072021.xlsx', sheet_name='Sheet1')\n",
    "for index, row in data.iterrows():\n",
    "    if not math.isnan(row['File mẫu']):\n",
    "        file_names.append(str(int(row['File mẫu'])))\n",
    "        labels.append(row['TÊN CẦN HIỂN THỊ'])"
   ]
  },
  {
   "cell_type": "code",
   "execution_count": 8,
   "id": "06936f9e-3c52-42a7-b974-bd6797e7d430",
   "metadata": {},
   "outputs": [
    {
     "name": "stdout",
     "output_type": "stream",
     "text": [
      "acc: 0.8431372549019608\n"
     ]
    }
   ],
   "source": [
    "files, ocr_results, cor_results, cor_labels, results = [], [], [], [], []\n",
    "count_true, total = 0, 0\n",
    "for i, path in enumerate(Path('/home/huynhtruc0309/Desktop/output_phieukiemnghiem/output').glob('**/*.json')):\n",
    "    if '1.json' not in str(path):\n",
    "        continue\n",
    "    f = open(str(path), 'r')\n",
    "    data = json.load(f)\n",
    "    name1 = data['name_analyst_center'] if 'name_analyst_center' in data else \"\"\n",
    "    name2 = data['name_analyst_center_normal'] if 'name_analyst_center_normal' in data else \"\"\n",
    "    name = name1 + name2\n",
    "    if name:\n",
    "        files.append(path)\n",
    "        ocr_results.append(name)\n",
    "        corrected = correcter(name)\n",
    "        cor_results.append(corrected)\n",
    "        result = 'Unknown'\n",
    "        label = 'Unknown'\n",
    "        for i, file_name in enumerate(file_names):\n",
    "            if file_name in str(path):\n",
    "                if labels[i] == corrected:\n",
    "                    result = 'True'\n",
    "                    count_true += 1\n",
    "                else:\n",
    "                    result = 'False'\n",
    "                label = labels[i]\n",
    "                total += 1\n",
    "        cor_labels.append(label)\n",
    "        results.append(result) \n",
    "\n",
    "df = pd.DataFrame({'Filename': files,\n",
    "                   'OCR': ocr_results,\n",
    "                   'Correct Label': cor_labels,\n",
    "                   'Auto Correct': cor_results,\n",
    "                   'Result': results,\n",
    "                 })\n",
    "df.to_csv('report.csv', index=False)\n",
    "print('acc:', count_true/total)"
   ]
  },
  {
   "cell_type": "code",
   "execution_count": null,
   "id": "9213a4a7-d07b-4d3b-8b32-e4ca76ab58a6",
   "metadata": {},
   "outputs": [],
   "source": []
  },
  {
   "cell_type": "code",
   "execution_count": null,
   "id": "cf46a8bb-6293-4297-b716-d951cc8b8933",
   "metadata": {},
   "outputs": [],
   "source": []
  }
 ],
 "metadata": {
  "kernelspec": {
   "display_name": "Python 3",
   "language": "python",
   "name": "python3"
  },
  "language_info": {
   "codemirror_mode": {
    "name": "ipython",
    "version": 3
   },
   "file_extension": ".py",
   "mimetype": "text/x-python",
   "name": "python",
   "nbconvert_exporter": "python",
   "pygments_lexer": "ipython3",
   "version": "3.7.10"
  }
 },
 "nbformat": 4,
 "nbformat_minor": 5
}
